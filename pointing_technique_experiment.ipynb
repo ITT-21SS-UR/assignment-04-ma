{
 "cells": [
  {
   "cell_type": "code",
   "execution_count": 2,
   "id": "37a3ec1b",
   "metadata": {},
   "outputs": [],
   "source": [
    "import numpy as np\n",
    "import pandas as pd\n",
    "import seaborn as sns\n",
    "from matplotlib import pyplot as plt\n",
    "import math"
   ]
  },
  {
   "cell_type": "code",
   "execution_count": 42,
   "id": "01f79c79",
   "metadata": {},
   "outputs": [],
   "source": [
    "#read in CSV-Files\n",
    "\n",
    "df1 = pd.read_csv('result_ID1.csv')\n",
    "df2 = pd.read_csv('result_ID2.csv')\n",
    "df3 = pd.read_csv('result_ID3.csv')\n",
    "df4 = pd.read_csv('result_ID4.csv')"
   ]
  },
  {
   "cell_type": "code",
   "execution_count": 43,
   "id": "e4402858",
   "metadata": {},
   "outputs": [
    {
     "data": {
      "text/plain": [
       "([1.287679672241211,\n",
       "  1.486818790435791,\n",
       "  1.505863904953003,\n",
       "  1.3423335552215576,\n",
       "  1.4824330806732178,\n",
       "  2.0406129360198975,\n",
       "  1.574509859085083,\n",
       "  1.2743725776672363,\n",
       "  1.6283931732177734,\n",
       "  1.160248041152954,\n",
       "  1.2147376537322998,\n",
       "  1.2367594242095947,\n",
       "  1.1544063091278076,\n",
       "  1.5107941627502441,\n",
       "  1.4744105339050293,\n",
       "  1.3286888599395752,\n",
       "  1.6138334274291992,\n",
       "  1.4599108695983887],\n",
       " [1.4819164276123047,\n",
       "  1.5232622623443604,\n",
       "  1.7789912223815918,\n",
       "  1.374748945236206,\n",
       "  1.2473394870758057,\n",
       "  1.3834543228149414,\n",
       "  1.297100305557251,\n",
       "  1.5922470092773438,\n",
       "  1.7703783512115479,\n",
       "  1.7080018520355225,\n",
       "  1.1912493705749512,\n",
       "  1.525594711303711,\n",
       "  1.0652670860290527,\n",
       "  1.4046947956085205,\n",
       "  1.1660609245300293,\n",
       "  1.553880214691162,\n",
       "  1.2487318515777588,\n",
       "  1.83451247215271])"
      ]
     },
     "execution_count": 43,
     "metadata": {},
     "output_type": "execute_result"
    }
   ],
   "source": [
    "#Get Task Time from both participants and extract the most important value\n",
    "#delta = how much time a participant needed between displaying target on screen and clicking it\n",
    "#extract data into separate list to avoid merging the two CSV-files\n",
    "\n",
    "data_normal = []\n",
    "df1_start_time = df1['Timestamp(Rep_load)']\n",
    "df1_end_time = df1['Timestamp(clicked)']\n",
    "\n",
    "for i in range (len(df1_start_time)):\n",
    "    delta = df1_end_time[i] - df1_start_time[i]\n",
    "    data_normal.append(delta)\n",
    "\n",
    "df2_start_time = df2['Timestamp(Rep_load)']\n",
    "df2_end_time = df2['Timestamp(clicked)']\n",
    "\n",
    "for i in range (len(df2_start_time)):\n",
    "    delta = df2_end_time[i] - df2_start_time[i]\n",
    "    data_normal.append(delta)\n",
    "    \n",
    "\n",
    "data_novice = []\n",
    "\n",
    "df3_start_time = df3['Timestamp(Rep_load)']\n",
    "df3_end_time = df3['Timestamp(clicked)']\n",
    "\n",
    "for i in range (len(df3_start_time)):\n",
    "    delta = df3_end_time[i] - df3_start_time[i]\n",
    "    data_novice.append(delta)\n",
    "\n",
    "df4_start_time = df4['Timestamp(Rep_load)']\n",
    "df4_end_time = df4['Timestamp(clicked)']\n",
    "\n",
    "for i in range (len(df4_start_time)):\n",
    "    delta = df4_end_time[i] - df4_start_time[i]\n",
    "    data_novice.append(delta)\n",
    "    \n",
    "#show raw data    \n",
    "data_normal, data_novice"
   ]
  },
  {
   "cell_type": "code",
   "execution_count": 46,
   "id": "24588fd0",
   "metadata": {},
   "outputs": [
    {
     "data": {
      "text/plain": [
       "(               0\n",
       " count  18.000000\n",
       " mean    1.432045\n",
       " std     0.214580\n",
       " min     1.154406\n",
       " 25%     1.277699\n",
       " 50%     1.467161\n",
       " 75%     1.509562\n",
       " max     2.040613,\n",
       "                0\n",
       " count  18.000000\n",
       " mean    1.452635\n",
       " std     0.227646\n",
       " min     1.065267\n",
       " 25%     1.260824\n",
       " 50%     1.443306\n",
       " 75%     1.582655\n",
       " max     1.834512)"
      ]
     },
     "execution_count": 46,
     "metadata": {},
     "output_type": "execute_result"
    }
   ],
   "source": [
    "df_normal = pd.DataFrame(data_normal)\n",
    "df_novice = pd.DataFrame(data_novice)\n",
    "\n",
    "df_normal.describe(), df_novice.describe()\n",
    "\n",
    "#Summary Statistics"
   ]
  },
  {
   "cell_type": "code",
   "execution_count": 47,
   "id": "68e5f32c",
   "metadata": {},
   "outputs": [
    {
     "data": {
      "image/png": "[encoded data removed]",
      "text/plain": [
       "<Figure size 432x288 with 1 Axes>"
      ]
     },
     "metadata": {
      "needs_background": "light"
     },
     "output_type": "display_data"
    },
    {
     "data": {
      "image/png": "[encoded data removed]",
      "text/plain": [
       "<Figure size 432x288 with 1 Axes>"
      ]
     },
     "metadata": {
      "needs_background": "light"
     },
     "output_type": "display_data"
    }
   ],
   "source": [
    "sns.boxplot(data=df_normal)\n",
    "plt.show()\n",
    "\n",
    "sns.boxplot(data=df_novice)\n",
    "plt.show()\n",
    "\n",
    "#Task Time in Seconds"
   ]
  },
  {
   "cell_type": "code",
   "execution_count": null,
   "id": "eb329f14",
   "metadata": {},
   "outputs": [],
   "source": []
  },
  {
   "cell_type": "code",
   "execution_count": null,
   "id": "e31e5746",
   "metadata": {},
   "outputs": [],
   "source": []
  }
 ],
 "metadata": {
  "kernelspec": {
   "display_name": "Python 3",
   "language": "python",
   "name": "python3"
  },
  "language_info": {
   "codemirror_mode": {
    "name": "ipython",
    "version": 3
   },
   "file_extension": ".py",
   "mimetype": "text/x-python",
   "name": "python",
   "nbconvert_exporter": "python",
   "pygments_lexer": "ipython3",
   "version": "3.6.9"
  }
 },
 "nbformat": 4,
 "nbformat_minor": 5
}
